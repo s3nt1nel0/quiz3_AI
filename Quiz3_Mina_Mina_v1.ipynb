{
  "cells": [
    {
      "attachments": {},
      "cell_type": "markdown",
      "metadata": {
        "id": "r63rpM7Sff2b"
      },
      "source": [
        "# Assignment 3: Reinforcement Learning\n",
        "In this assignment you will apply the RL algorithms you learnt from the tutorials to a simulated robot car in a pybullet environment.\n",
        "\n",
        "You will be asked to (percentages are allocation of assignment marks):\n",
        "* Train the robot to drive to the green goal marker which spawns at random locations (60%)\n",
        "* Modify the epsilon-greedy function to incorporate prior knowledge (10%) \n",
        "* Modify the reward function (10%)\n",
        "* Add obstacles to the environment (20%)\n",
        "\n",
        "It is highly recommended to install pybullet and run your code locally since things will run much faster. It will also make editing the gym environment code easier.\n",
        "\n"
      ]
    },
    {
      "attachments": {},
      "cell_type": "markdown",
      "metadata": {
        "id": "sx8knrhyhteV"
      },
      "source": [
        "## Simple Car Environment\n",
        "---\n",
        "\n",
        "![simple_car.gif](https://media0.giphy.com/media/v1.Y2lkPTc5MGI3NjExODU0NmVlMzU1MGU1YzJjMjA5ODE5NjM0MTg0MTU1ZmM1OTA1NzRkNCZjdD1n/VI3OuvQShK3gzENiVz/giphy.gif)\n",
        "\n",
        "*(code for this tutorial adapted from: https://gerardmaggiolino.medium.com/creating-openai-gym-environments-with-pybullet-part-2-a1441b9a4d8e*)\n",
        "\n",
        "---\n",
        "\n",
        "This is a simple car environment with a continuous state space and discrete action space with the goal of driving towards a green marker. Driving within 1.5 metres of the green marker causes the episode to end or if a certain amount of time has passed.\n",
        "\n",
        "We can instantiate the environment as follows:\n",
        "\n",
        "\n",
        "```\n",
        "env = gym.make('SimpleDriving-v0', apply_api_compatibility=True, renders=False, isDiscrete=True, render_mode='tp_camera')\n",
        "```\n",
        "\n",
        "\n",
        "### Action Space\n",
        "\n",
        "*   0: Reverse-Left \n",
        "*   1: Reverse\n",
        "*   2: Reverse-Right\n",
        "*   3: Steer-Left (no throttle)\n",
        "*   4: No throttle and no steering\n",
        "*   5: Steer-Right (no throttle)\n",
        "*   6: Forward-right\n",
        "*   7: Forward\n",
        "*   8: Forward-left\n",
        "\n",
        "### Observation Space\n",
        "Two dimensional array with distance in (x, y) from goal position.\n",
        "\n",
        "###Rewards\n",
        "Negative euclidean distance from the goal.\n",
        "\n",
        "### Interacting with the Environment\n",
        "We can sample actions randomly, get the agent to perform that action and then observe how the environment state changes: \n",
        "```\n",
        "state = env.reset()  # this needs to be called once at the start before sending any actions\n",
        "action = env.action_space.sample()\n",
        "state, reward, done, _, info = env.step(action)\n",
        "```\n",
        "\n",
        "\n",
        "---\n",
        "\n",
        "## Installing and Modifying Gym Environment Code\n",
        "\n",
        "For installing in collab you would have already been familiar with using the following command:\n",
        "```\n",
        "pip install git+https://github.com/fredsukkar/simple-car-env-template\n",
        "```\n",
        "\n",
        "To edit the gym environment first create a github account and then go to https://github.com/fredsukkar/simple-car-env-template and create a new repository using the repository as a template as follows:\n",
        "![sdlfk](https://i.ibb.co/MMsLv1G/github-template.jpg)\n",
        "\n",
        "\n",
        "Once you have your own copy of the repository you can then edit the files in the browser via github or alternatively (recommended) you can [clone the repository](https://docs.github.com/en/repositories/creating-and-managing-repositories/cloning-a-repository) and modify the code locally.\n",
        "\n",
        "To install the package from github you can use the usual:\n",
        "```\n",
        "pip install git+https://github.com/<your repo>\n",
        "```\n",
        "\n",
        "To install the package locally:\n",
        "```\n",
        "cd /path/to/cloned_repo\n",
        "python setup.py install\n",
        "```\n",
        "\n",
        "Note that for both methods you will need to install the package again after you've made any changes for them to take any effect.\n",
        "\n",
        "The main file you will be modifying is: https://github.com/fredsukkar/Gym-Medium-Post/blob/main/simple_driving/envs/simple_driving_env.py.\n",
        "\n",
        "There are four main functions that you have been calling via the gym environment object:\n",
        "```\n",
        "class SimpleDrivingEnv(gym.Env):\n",
        "    metadata = {'render.modes': ['human']}  \n",
        "  \n",
        "    def __init__(self):\n",
        "        pass\n",
        "\n",
        "    def step(self, action):\n",
        "        pass\n",
        "\n",
        "    def reset(self):\n",
        "        pass\n",
        "\n",
        "    def render(self):\n",
        "        pass\n",
        "```\n",
        "\n",
        "Parts 3 and 4 of the assignment will ask you to modify one of these functions.\n",
        "\n",
        "---"
      ]
    },
    {
      "attachments": {},
      "cell_type": "markdown",
      "metadata": {
        "id": "b1j7Dqubpfql"
      },
      "source": [
        "Before we can execute any code we first need to install the following packages:"
      ]
    },
    {
      "attachments": {},
      "cell_type": "markdown",
      "metadata": {
        "id": "WqiZQ4hUp3lv"
      },
      "source": [
        "Now import the necessary packages and following helper functions (you don't need the `display_video` function if running locally):"
      ]
    },
    {
      "cell_type": "code",
      "execution_count": 27,
      "metadata": {
        "id": "3xeRJtf7p_q1"
      },
      "outputs": [],
      "source": [
        "import gym\n",
        "import simple_driving\n",
        "# import pybullet_envs\n",
        "import pybullet as p\n",
        "import matplotlib.pyplot as plt\n",
        "from IPython import display as ipythondisplay\n",
        "from pyvirtualdisplay import Display\n",
        "from IPython.display import HTML\n",
        "import matplotlib\n",
        "import matplotlib.pyplot as plt\n",
        "import matplotlib.animation as animation\n",
        "import numpy as np\n",
        "import math\n",
        "from collections import defaultdict\n",
        "import pickle\n",
        "from IPython.display import clear_output\n",
        "import torch\n",
        "import random\n",
        "\n",
        "# display = Display(visible=0, size=(400, 300))\n",
        "# display.start()\n",
        "\n",
        "# # def display_video(frames, framerate=30):\n",
        "#   \"\"\"Generates video from `frames`.\n",
        "\n",
        "#   Args:\n",
        "#     frames (ndarray): Array of shape (n_frames, height, width, 3).\n",
        "#     framerate (int): Frame rate in units of Hz.\n",
        "\n",
        "#   Returns:\n",
        "#     Display object.\n",
        "#   \"\"\"\n",
        "#   height, width, _ = frames[0].shape\n",
        "#   dpi = 70\n",
        "#   orig_backend = matplotlib.get_backend()\n",
        "#   matplotlib.use('Agg')  # Switch to headless 'Agg' to inhibit figure rendering.\n",
        "#   fi g, ax = plt.subplots(1, 1, figsize=(width / dpi, height / dpi), dpi=dpi)\n",
        "#   matplotlib.use(orig_backend)  # Switch back to the original backend.\n",
        "#   ax.set_axis_off()\n",
        "#   ax.set_aspect('equal')\n",
        "#   ax.set_position([0, 0, 1, 1])\n",
        "#   im = ax.imshow(frames[0])\n",
        "#   def update(frame):\n",
        "#     im.set_data(frame)\n",
        "#     return [im]\n",
        "#   interval = 1000/framerate\n",
        "#   anim = animation.FuncAnimation(fig=fig, func=update, frames=frames,\n",
        "#                                   interval=interval, blit=True, repeat=False)\n",
        "#   return HTML(anim.to_html5_video())"
      ]
    },
    {
      "attachments": {},
      "cell_type": "markdown",
      "metadata": {
        "id": "ps9E66nS-Cr7"
      },
      "source": [
        "## Part 1\n",
        "\n",
        "Train the robot to drive to the green goal marker. Use any of the RL algorithms you learnt in the tutorials.\n",
        "\n",
        "You can save the model after training to save you having to retrain everytime you open colab:\n",
        "```\n",
        "from google.colab import drive\n",
        "drive.mount('/content/drive')\n",
        "torch.save(model.state_dict(), \"/content/drive/My Drive/Colab Notebooks/simple_driving_qlearning.pkl\")  # this will save to folder \"Colab Notebooks\" on your google drive\n",
        "```\n",
        "\n",
        "You can then load the model:\n",
        "```\n",
        "model.load_state_dict(torch.load(\"/content/drive/My Drive/Colab Notebooks/simple_driving_qlearning.pkl\"))\n",
        "```\n",
        "\n",
        "Once loaded you can even continue your training again using the learnt weights, that way you don't have to start from scratch again if you decide you want to train for longer. But keep in mind the epsilon greedy function will start from completely random again so you might want to set epsilon starting value appropriately."
      ]
    },
    {
      "attachments": {},
      "cell_type": "markdown",
      "metadata": {
        "id": "xXODTRa7_WAz"
      },
      "source": [
        "## Part 2\n",
        "\n",
        "Incorporate prior knowledge into the epsilon-greedy function by choosing a non-uniform distribution to sample from when performing exploration. For example, for training flappy bird we used the following to sample flapping actions less often to avoid flying off into the sky during early stages of training:\n",
        "\n",
        "```\n",
        "return np.random.choice(np.array(range(2)), p=[0.9,0.1])\n",
        "```\n",
        "\n",
        "Note that you will need to change the parameters to suit the car's action space and also choose a suitable distribution."
      ]
    },
    {
      "attachments": {},
      "cell_type": "markdown",
      "metadata": {
        "id": "XasnJTZ2Bynb"
      },
      "source": [
        "## Part 3\n",
        "\n",
        "Modify the reward to give a bonus of 50 if the goal is reached. You can do this either in the `simulate` function or directly by modifying the `step` function in the gym environment code.\n"
      ]
    },
    {
      "attachments": {},
      "cell_type": "markdown",
      "metadata": {
        "id": "ztxrzwvMCfnj"
      },
      "source": [
        "## Part 4\n",
        "\n",
        "Add obstacles to the environment. You can do this by modifying the `reset` function in the gym environment code. For example you can add objects as follows:\n",
        "```\n",
        "self.obstacle = self._p.loadURDF(fileName=<path to urdf file here>,\n",
        "                   basePosition=[0, 0, 0])\n",
        "```\n",
        "\n",
        "An example urdf file: https://github.com/fredsukkar/simple-car-env-template/blob/main/simple_driving/resources/simplegoal.urdf\n",
        "\n",
        "**Note:** you will need to add features to your state so that the agent learns to avoid obstacles. For example, you could add the x, y distance from the agent to the closest obstacle in the environment. Then your state would become: `[x_goal, y_goal, x_obstacle, y_obstacle]`.\n",
        "\n",
        "---"
      ]
    },
    {
      "attachments": {},
      "cell_type": "markdown",
      "metadata": {
        "id": "MqdyWkJWB40I"
      },
      "source": [
        "Here is some code to help you get started."
      ]
    },
    {
      "cell_type": "code",
      "execution_count": 28,
      "metadata": {
        "id": "3aifCJ2wKDJn"
      },
      "outputs": [
        {
          "ename": "NameError",
          "evalue": "name 'QLearningAgent' is not defined",
          "output_type": "error",
          "traceback": [
            "\u001b[1;31m---------------------------------------------------------------------------\u001b[0m",
            "\u001b[1;31mNameError\u001b[0m                                 Traceback (most recent call last)",
            "Cell \u001b[1;32mIn[28], line 14\u001b[0m\n\u001b[0;32m      2\u001b[0m env \u001b[39m=\u001b[39m gym\u001b[39m.\u001b[39mmake(\u001b[39m\"\u001b[39m\u001b[39mSimpleDriving-v0\u001b[39m\u001b[39m\"\u001b[39m, apply_api_compatibility\u001b[39m=\u001b[39m\u001b[39mTrue\u001b[39;00m, renders\u001b[39m=\u001b[39m\u001b[39mFalse\u001b[39;00m, isDiscrete\u001b[39m=\u001b[39m\u001b[39mTrue\u001b[39;00m, render_mode\u001b[39m=\u001b[39m\u001b[39m'\u001b[39m\u001b[39mtp_camera\u001b[39m\u001b[39m'\u001b[39m) \n\u001b[0;32m      3\u001b[0m \u001b[39m##########################################################################################################################\u001b[39;00m\n\u001b[0;32m      4\u001b[0m \n\u001b[0;32m      5\u001b[0m \u001b[39m######################### renders image from onboard camera ###############################################################\u001b[39;00m\n\u001b[1;32m   (...)\u001b[0m\n\u001b[0;32m     12\u001b[0m \n\u001b[0;32m     13\u001b[0m \u001b[39m# Training of the agent done here but main work done in simple_driving_env file before running this section\u001b[39;00m\n\u001b[1;32m---> 14\u001b[0m agent \u001b[39m=\u001b[39m QLearningAgent(env)\n\u001b[0;32m     15\u001b[0m epochs \u001b[39m=\u001b[39m \u001b[39m2000\u001b[39m\n\u001b[0;32m     16\u001b[0m agent\u001b[39m.\u001b[39mtrain(epochs)\n",
            "\u001b[1;31mNameError\u001b[0m: name 'QLearningAgent' is not defined"
          ]
        }
      ],
      "source": [
        "######################### renders image from third person perspective for validating policy ##############################\n",
        "env = gym.make(\"SimpleDriving-v0\", apply_api_compatibility=True, renders=False, isDiscrete=True, render_mode='tp_camera') \n",
        "##########################################################################################################################\n",
        "\n",
        "######################### renders image from onboard camera ###############################################################\n",
        "# env = gym.make(\"SimpleDriving-v0\", apply_api_compatibility=True, renders=False, isDiscrete=True, render_mode='fp_camera') \n",
        "##########################################################################################################################\n",
        "\n",
        "######################### if running locally you can just render the environment in pybullet's GUI #######################\n",
        "# env = gym.make(\"SimpleDriving-v0\", apply_api_compatibility=True, renders=True, isDiscrete=True) \n",
        "##########################################################################################################################\n",
        "\n",
        "# Training of the agent done here but main work done in simple_driving_env file before running this section\n",
        "agent = QLearningAgent(env)\n",
        "episodes = 2000\n",
        "agent.train(episodes)\n",
        "\n",
        "state, info = env.reset()\n",
        "frames = []\n",
        "frames.append(env.render())\n",
        "\n",
        "for i in range(200):\n",
        "    action = env.action_space.sample()\n",
        "    state, reward, done, _, info = env.step(action)\n",
        "    frames.append(env.render())  # if running locally not necessary unless you want to grab onboard camera image\n",
        "    if done:\n",
        "        break\n",
        "\n",
        "env.close()\n",
        "# display_video(frames, framerate=5)  # remove if runnning locally\n",
        "\n"
      ]
    }
  ],
  "metadata": {
    "colab": {
      "provenance": []
    },
    "kernelspec": {
      "display_name": "Python 3",
      "name": "python3"
    },
    "language_info": {
      "name": "python",
      "version": "3.10.11"
    }
  },
  "nbformat": 4,
  "nbformat_minor": 0
}
